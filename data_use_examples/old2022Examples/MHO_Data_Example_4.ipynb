{
 "cells": [
  {
   "cell_type": "code",
   "execution_count": 1,
   "metadata": {},
   "outputs": [],
   "source": [
    "import madrigalWeb.madrigalWeb\n",
    "import pylab\n",
    "import matplotlib.cm\n",
    "import numpy\n",
    "import h5py\n",
    "import datetime\n",
    "import dateutil.parser\n",
    "import calendar\n",
    "import re\n",
    "%matplotlib inline"
   ]
  },
  {
   "cell_type": "code",
   "execution_count": 2,
   "metadata": {},
   "outputs": [],
   "source": [
    "#CHANGE ME\n",
    "user_fullname = \"Student Example\"\n",
    "user_email = \"isr.summer.school@gmail.com\"\n",
    "user_affiliation = \"ISR Summer School 2022\"\n",
    "\n",
    "maddat = madrigalWeb.madrigalWeb.MadrigalData('http://cedar.openmadrigal.org/')"
   ]
  },
  {
   "cell_type": "code",
   "execution_count": 3,
   "metadata": {},
   "outputs": [],
   "source": [
    "# instrument codes for Millstone Hill\n",
    "instcodes={'MHO':30}"
   ]
  },
  {
   "cell_type": "code",
   "execution_count": 4,
   "metadata": {},
   "outputs": [
    {
     "name": "stdout",
     "output_type": "stream",
     "text": [
      "id: 100195498\n",
      "realUrl: http://cedar.openmadrigal.org/showExperiment/?experiment_list=100195498\n",
      "url: http://cedar.openmadrigal.org/madtoc/experiments5/2013/mlh/16mar13a\n",
      "name: DICE Overflight\n",
      "siteid: 10\n",
      "sitename: CEDAR\n",
      "instcode: 30\n",
      "instname: Millstone Hill IS Radar\n",
      "startyear: 2013\n",
      "startmonth: 3\n",
      "startday: 16\n",
      "starthour: 21\n",
      "startmin: 23\n",
      "startsec: 22\n",
      "endyear: 2013\n",
      "endmonth: 3\n",
      "endday: 16\n",
      "endhour: 22\n",
      "endmin: 34\n",
      "endsec: 25\n",
      "isLocal: True\n",
      "madrigalUrl: http://cedar.openmadrigal.org/\n",
      "PI: Phil Erickson\n",
      "PIEmail: perickson@haystack.mit.edu\n",
      "uttimestamp: 1594078627\n",
      "access: 2\n",
      "Madrigal version: 3.2\n",
      "\n",
      "id: 100195539\n",
      "realUrl: http://cedar.openmadrigal.org/showExperiment/?experiment_list=100195539\n",
      "url: http://cedar.openmadrigal.org/madtoc/experiments5/2013/mlh/15mar13\n",
      "name: DICE Overflight\n",
      "siteid: 10\n",
      "sitename: CEDAR\n",
      "instcode: 30\n",
      "instname: Millstone Hill IS Radar\n",
      "startyear: 2013\n",
      "startmonth: 3\n",
      "startday: 15\n",
      "starthour: 19\n",
      "startmin: 42\n",
      "startsec: 44\n",
      "endyear: 2013\n",
      "endmonth: 3\n",
      "endday: 16\n",
      "endhour: 0\n",
      "endmin: 40\n",
      "endsec: 58\n",
      "isLocal: True\n",
      "madrigalUrl: http://cedar.openmadrigal.org/\n",
      "PI: Phil Erickson\n",
      "PIEmail: perickson@haystack.mit.edu\n",
      "uttimestamp: 1594075820\n",
      "access: 2\n",
      "Madrigal version: 3.2\n",
      "\n",
      "id: 100195516\n",
      "realUrl: http://cedar.openmadrigal.org/showExperiment/?experiment_list=100195516\n",
      "url: http://cedar.openmadrigal.org/madtoc/experiments5/2013/mlh/17mar13\n",
      "name: DICE Overflight\n",
      "siteid: 10\n",
      "sitename: CEDAR\n",
      "instcode: 30\n",
      "instname: Millstone Hill IS Radar\n",
      "startyear: 2013\n",
      "startmonth: 3\n",
      "startday: 17\n",
      "starthour: 21\n",
      "startmin: 51\n",
      "startsec: 24\n",
      "endyear: 2013\n",
      "endmonth: 3\n",
      "endday: 17\n",
      "endhour: 22\n",
      "endmin: 35\n",
      "endsec: 56\n",
      "isLocal: True\n",
      "madrigalUrl: http://cedar.openmadrigal.org/\n",
      "PI: Phil Erickson\n",
      "PIEmail: perickson@haystack.mit.edu\n",
      "uttimestamp: 1594078688\n",
      "access: 2\n",
      "Madrigal version: 3.2\n",
      "\n",
      "id: 100195497\n",
      "realUrl: http://cedar.openmadrigal.org/showExperiment/?experiment_list=100195497\n",
      "url: http://cedar.openmadrigal.org/madtoc/experiments5/2013/mlh/18mar13\n",
      "name: Van Allen Conjunction CME\n",
      "siteid: 10\n",
      "sitename: CEDAR\n",
      "instcode: 30\n",
      "instname: Millstone Hill IS Radar\n",
      "startyear: 2013\n",
      "startmonth: 3\n",
      "startday: 18\n",
      "starthour: 18\n",
      "startmin: 1\n",
      "startsec: 0\n",
      "endyear: 2013\n",
      "endmonth: 3\n",
      "endday: 19\n",
      "endhour: 0\n",
      "endmin: 30\n",
      "endsec: 0\n",
      "isLocal: True\n",
      "madrigalUrl: http://cedar.openmadrigal.org/\n",
      "PI: Phil Erickson\n",
      "PIEmail: perickson@haystack.mit.edu\n",
      "uttimestamp: 1543545564\n",
      "access: 2\n",
      "Madrigal version: 3.2\n",
      "\n",
      "id: 100195503\n",
      "realUrl: http://cedar.openmadrigal.org/showExperiment/?experiment_list=100195503\n",
      "url: http://cedar.openmadrigal.org/madtoc/experiments5/2013/mlh/16mar13\n",
      "name: Van Allen Conjunction\n",
      "siteid: 10\n",
      "sitename: CEDAR\n",
      "instcode: 30\n",
      "instname: Millstone Hill IS Radar\n",
      "startyear: 2013\n",
      "startmonth: 3\n",
      "startday: 16\n",
      "starthour: 16\n",
      "startmin: 6\n",
      "startsec: 30\n",
      "endyear: 2013\n",
      "endmonth: 3\n",
      "endday: 19\n",
      "endhour: 4\n",
      "endmin: 0\n",
      "endsec: 9\n",
      "isLocal: True\n",
      "madrigalUrl: http://cedar.openmadrigal.org/\n",
      "PI: Phil Erickson\n",
      "PIEmail: perickson@haystack.mit.edu\n",
      "uttimestamp: 1594078550\n",
      "access: 2\n",
      "Madrigal version: 3.2\n",
      "\n"
     ]
    }
   ],
   "source": [
    "# start time\n",
    "st=datetime.datetime(2013, 3, 16, 0,0)\n",
    "et=datetime.datetime(2013, 3, 19, 0,0)\n",
    "\n",
    "expList = maddat.getExperiments(instcodes['MHO'], \n",
    "                                st.year, st.month, st.day, st.hour, st.minute, st.second, \n",
    "                                et.year, et.month, et.day, et.hour, et.minute, et.second)\n",
    "for exp in expList:\n",
    "    print(exp)"
   ]
  },
  {
   "cell_type": "code",
   "execution_count": 5,
   "metadata": {},
   "outputs": [
    {
     "name": "stdout",
     "output_type": "stream",
     "text": [
      "Selecting: Van Allen Conjunction\n"
     ]
    }
   ],
   "source": [
    "# select Van Allen Conjunction experiment (regular ion line parameters)\n",
    "for thisExp in expList:\n",
    "    if re.match(exp.name, 'Van Allen'):\n",
    "        break\n",
    "print('Selecting: %s' % (thisExp.name))"
   ]
  },
  {
   "cell_type": "code",
   "execution_count": 6,
   "metadata": {},
   "outputs": [
    {
     "name": "stdout",
     "output_type": "stream",
     "text": [
      "Combined basic parameters file - all antennas and modes\n",
      "Zenith single-pulse basic parameters\n",
      "Zenith alternating-code basic parameters\n",
      "MISA (steerable) single-pulse basic parameters\n",
      "MISA (steerable) alternating-code basic parameters\n",
      "Gridded data fitted to a uniform spatial and temporal grid - useful for modellers\n",
      "Derived vector ion velocities\n"
     ]
    }
   ],
   "source": [
    "# survey all experiment files available\n",
    "fileList = maddat.getExperimentFiles(thisExp.id)\n",
    "thisFile=None\n",
    "for file in fileList:\n",
    "    print(file.kindatdesc)"
   ]
  },
  {
   "cell_type": "code",
   "execution_count": 7,
   "metadata": {},
   "outputs": [
    {
     "name": "stdout",
     "output_type": "stream",
     "text": [
      "Using: name: /opt/cedar3/experiments5/2013/mlh/16mar13/mlh130316k.005.hdf5\n",
      "kindat: 3430\n",
      "kindatdesc: MISA (steerable) single-pulse basic parameters\n",
      "category: 1\n",
      "status: Final\n",
      "permission: 0\n",
      "expId: 100195503\n",
      "doi: https://w3id.org/cedar?experiment_list=experiments5/2013/mlh/16mar13&file_list=mlh130316k.005.hdf5\n",
      "\n"
     ]
    }
   ],
   "source": [
    "# Select the correct experiment file (MISA uncoded pulse)\n",
    "fileList = maddat.getExperimentFiles(thisExp.id)\n",
    "thisFile=None\n",
    "for file in fileList:\n",
    "    if re.match('MISA \\(steerable\\) single-pulse',file.kindatdesc):\n",
    "        print('Using: %s' % (file))\n",
    "        thisFile=file\n",
    "        break"
   ]
  },
  {
   "cell_type": "code",
   "execution_count": 8,
   "metadata": {},
   "outputs": [],
   "source": [
    "# Download the file (should end up in this folder)       \n",
    "filename=thisFile.name\n",
    "outfilename=thisFile.name.split('/')[-1]\n",
    "result = maddat.downloadFile(filename,outfilename, user_fullname, user_email, user_affiliation, 'hdf5')"
   ]
  },
  {
   "cell_type": "code",
   "execution_count": 9,
   "metadata": {},
   "outputs": [],
   "source": [
    "# Load file and get data table\n",
    "hz = h5py.File(outfilename,'r')\n",
    "hztl = hz['Data']['Table Layout']"
   ]
  },
  {
   "cell_type": "code",
   "execution_count": 10,
   "metadata": {},
   "outputs": [
    {
     "name": "stdout",
     "output_type": "stream",
     "text": [
      "Unique pulse lengths in sec: [0.002, 0.00048]\n"
     ]
    }
   ],
   "source": [
    "# Survey the radar pulse lengths in this experiment\n",
    "print('Unique pulse lengths in sec: %s' % (list(set(hztl['pl']))))"
   ]
  },
  {
   "cell_type": "code",
   "execution_count": 11,
   "metadata": {},
   "outputs": [
    {
     "name": "stdout",
     "output_type": "stream",
     "text": [
      "[('year', '<f8'), ('month', '<f8'), ('day', '<f8'), ('hour', '<f8'), ('min', '<f8'), ('sec', '<f8'), ('recno', '<f8'), ('kindat', '<f8'), ('kinst', '<f8'), ('ut1_unix', '<f8'), ('ut2_unix', '<f8'), ('range', '<f8'), ('pl', '<f8'), ('mdtyp', '<f8'), ('az1', '<f8'), ('az2', '<f8'), ('el1', '<f8'), ('el2', '<f8'), ('systmp', '<f8'), ('pnrmd', '<f8'), ('power', '<f8'), ('pulf', '<f8'), ('dtau', '<f8'), ('ipp', '<f8'), ('tfreq', '<f8'), ('vtx', '<f8'), ('dvtx', '<f8'), ('scntyp', '<f8'), ('cycn', '<f8'), ('posn', '<f8'), ('mresl', '<f8'), ('sn', '<f8'), ('wchsq', '<f8'), ('gfit', '<f8'), ('fpi_dataqual', '<f8'), ('ti', '<f8'), ('dti', '<f8'), ('tr', '<f8'), ('dtr', '<f8'), ('popl', '<f8'), ('dpopl', '<f8'), ('ph+', '<f8'), ('dph+', '<f8'), ('fa', '<f8'), ('dfa', '<f8'), ('co', '<f8'), ('dco', '<f8'), ('pm', '<f8'), ('dpm', '<f8'), ('vo', '<f8'), ('dvo', '<f8'), ('vdopp', '<f8'), ('dvdopp', '<f8'), ('tibf', '<f8'), ('dtibf', '<f8'), ('trbf', '<f8'), ('dtrbf', '<f8'), ('fit_type', '<f8'), ('cctitr', '<f8'), ('cctiph', '<f8'), ('cctico', '<f8'), ('cctrph', '<f8'), ('gdlat', '<f8'), ('glon', '<f8'), ('gdalt', '<f8'), ('ne', '<f8'), ('dne', '<f8')]\n"
     ]
    }
   ],
   "source": [
    "# List variables available\n",
    "print(hztl.dtype)"
   ]
  },
  {
   "cell_type": "code",
   "execution_count": 12,
   "metadata": {},
   "outputs": [],
   "source": [
    "# antenna codes for Millstone Hill\n",
    "antcodes={'Zenith':32,\n",
    "           'MISA':31}"
   ]
  },
  {
   "cell_type": "code",
   "execution_count": 13,
   "metadata": {},
   "outputs": [],
   "source": [
    "# Define time subset\n",
    "t1 = calendar.timegm(dateutil.parser.parse('2013-03-17T19:41:00').timetuple())\n",
    "t2 = calendar.timegm(dateutil.parser.parse('2013-03-17T19:57:00').timetuple())"
   ]
  },
  {
   "cell_type": "code",
   "execution_count": 14,
   "metadata": {},
   "outputs": [],
   "source": [
    "# Select the 2000 usec uncoded pulse from the MISA at the desired times\n",
    "indx = numpy.where(numpy.logical_and(hztl['pl'] >= 1900e-6,\n",
    "                                    hztl['kinst'] == antcodes['MISA']))[0]\n",
    "hztl = hztl[indx]\n",
    "indx = numpy.where(numpy.logical_and(hztl['ut1_unix'] >= t1,\n",
    "                                     hztl['ut2_unix'] <= t2))[0]\n",
    "hztl = hztl[indx]"
   ]
  },
  {
   "cell_type": "code",
   "execution_count": 15,
   "metadata": {},
   "outputs": [],
   "source": [
    "# Build a time array\n",
    "ut = 0.5*(hztl['ut1_unix'] + hztl['ut2_unix'])\n",
    "dut = numpy.array([datetime.datetime.utcfromtimestamp(uut) for uut in ut])"
   ]
  },
  {
   "cell_type": "code",
   "execution_count": 16,
   "metadata": {},
   "outputs": [],
   "source": [
    "# Electron density:\n",
    "# Construct X and Y meshgrid arrays for 2D plot and extract data for plotting\n",
    "tcount = len(set(ut))\n",
    "X = numpy.array(hztl['gdalt'])\n",
    "X = X.reshape(tcount,-1)\n",
    "Y = numpy.array(dut)\n",
    "Y = Y.reshape(tcount,-1)"
   ]
  },
  {
   "cell_type": "code",
   "execution_count": 17,
   "metadata": {},
   "outputs": [
    {
     "name": "stderr",
     "output_type": "stream",
     "text": [
      "/var/folders/fv/q7qf8rjn6zdd37k3vttxspjw0000gp/T/ipykernel_36972/328036491.py:10: UserWarning: The input coordinates to pcolor are interpreted as cell centers, but are not monotonically increasing or decreasing. This may lead to incorrectly calculated cell edges, in which case, please supply explicit cell edges to pcolor.\n",
      "  am = ax[0].pcolor(Y, X, Z, vmin=9, vmax=12, cmap='jet')\n",
      "/var/folders/fv/q7qf8rjn6zdd37k3vttxspjw0000gp/T/ipykernel_36972/328036491.py:19: UserWarning: The input coordinates to pcolor are interpreted as cell centers, but are not monotonically increasing or decreasing. This may lead to incorrectly calculated cell edges, in which case, please supply explicit cell edges to pcolor.\n",
      "  am = ax[1].pcolor(Y, X, Z, vmin=0, vmax=1000, cmap='jet')\n",
      "/var/folders/fv/q7qf8rjn6zdd37k3vttxspjw0000gp/T/ipykernel_36972/328036491.py:24: RuntimeWarning: invalid value encountered in log10\n",
      "  Z = numpy.log10(hztl['ne']*hztl['vo'])\n",
      "/var/folders/fv/q7qf8rjn6zdd37k3vttxspjw0000gp/T/ipykernel_36972/328036491.py:26: UserWarning: The input coordinates to pcolor are interpreted as cell centers, but are not monotonically increasing or decreasing. This may lead to incorrectly calculated cell edges, in which case, please supply explicit cell edges to pcolor.\n",
      "  am = ax[2].pcolor(Y, X, Z, vmin=12, vmax=15, cmap='jet')\n"
     ]
    },
    {
     "data": {
      "image/png": "[encoded data removed]",
      "text/plain": [
       "<Figure size 1080x1080 with 6 Axes>"
      ]
     },
     "metadata": {
      "needs_background": "light"
     },
     "output_type": "display_data"
    }
   ],
   "source": [
    "# Make triple panel figure:\n",
    "# Electron density, LOS velocity, density x velocity\n",
    "\n",
    "pylab.rcParams['figure.figsize']=(15,15)\n",
    "pylab.rcParams['font.size']=18\n",
    "f,ax = pylab.subplots(3,1,sharex=True)\n",
    "\n",
    "Z = numpy.log10(hztl['ne'])\n",
    "Z = Z.reshape(X.shape)\n",
    "am = ax[0].pcolor(Y, X, Z, vmin=9, vmax=12, cmap='jet')\n",
    "ax[0].set_ylim(150,600)\n",
    "f.colorbar(am, ax=ax[0], label='Log10([e-])')\n",
    "ax[0].set_ylabel('Altitude (km)')\n",
    "ax[0].set_title('Millstone Hill MISA %s El=%.0f' % (dut[0].strftime('%Y-%m-%d'),\n",
    "                                                    hztl['el1'][0]))\n",
    "\n",
    "Z = hztl['vo']\n",
    "Z = Z.reshape(X.shape)\n",
    "am = ax[1].pcolor(Y, X, Z, vmin=0, vmax=1000, cmap='jet')\n",
    "ax[1].set_ylim(150,600)\n",
    "f.colorbar(am, ax=ax[1], label='LOS Velocity (m/s)')\n",
    "ax[1].set_ylabel('Altitude (km)')\n",
    "\n",
    "Z = numpy.log10(hztl['ne']*hztl['vo'])\n",
    "Z = Z.reshape(X.shape)\n",
    "am = ax[2].pcolor(Y, X, Z, vmin=12, vmax=15, cmap='jet')\n",
    "ax[2].set_ylim(150,600)\n",
    "f.colorbar(am, ax=ax[2], label='Dens x veloc (m^-2 s^-1)')\n",
    "ax[2].set_ylabel('Altitude (km)')\n",
    "ax[2].set_xlabel('UT (Hours)')\n",
    "\n",
    "f.autofmt_xdate()"
   ]
  },
  {
   "cell_type": "markdown",
   "metadata": {},
   "source": [
    "### Fixed plot of data from same time period in geographic form: 2D (latitude, longitude)"
   ]
  },
  {
   "cell_type": "markdown",
   "metadata": {},
   "source": [
    "<img src=\"images/mho_log_e-_2013-03-17T194125ut.png\" />"
   ]
  },
  {
   "cell_type": "markdown",
   "metadata": {},
   "source": [
    "<img src=\"images/mho_vlos_2013-03-17T194125ut.png\" />"
   ]
  },
  {
   "cell_type": "markdown",
   "metadata": {},
   "source": [
    "# Questions\n",
    "\n",
    "1. Why does the electron density rapidly increase to the west of Millstone at about 55 gdlat?\n",
    "\n",
    "2. Why does the line of sight velocity rapidly increase in the same region?\n",
    "\n",
    "3. This period was very magnetically disturbed.  What does the product of density and velocity gauge, and what does the measurement here tell you about dynamics in the subauroral region?"
   ]
  },
  {
   "cell_type": "code",
   "execution_count": null,
   "metadata": {},
   "outputs": [],
   "source": []
  }
 ],
 "metadata": {
  "kernelspec": {
   "display_name": "Python 3 (ipykernel)",
   "language": "python",
   "name": "python3"
  },
  "language_info": {
   "codemirror_mode": {
    "name": "ipython",
    "version": 3
   },
   "file_extension": ".py",
   "mimetype": "text/x-python",
   "name": "python",
   "nbconvert_exporter": "python",
   "pygments_lexer": "ipython3",
   "version": "3.8.12"
  }
 },
 "nbformat": 4,
 "nbformat_minor": 4
}
